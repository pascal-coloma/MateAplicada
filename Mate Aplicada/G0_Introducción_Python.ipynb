{
  "nbformat": 4,
  "nbformat_minor": 0,
  "metadata": {
    "colab": {
      "provenance": [],
      "toc_visible": true
    },
    "kernelspec": {
      "name": "python3",
      "display_name": "Python 3"
    },
    "language_info": {
      "name": "python"
    }
  },
  "cells": [
    {
      "cell_type": "markdown",
      "source": [
        "# Problema 1"
      ],
      "metadata": {
        "id": "t48ZzDLtux0T"
      }
    },
    {
      "cell_type": "markdown",
      "source": [
        "Escribe un código que pida al usuario ingresar un número real y determine si el número ingresado es positivo, negativo o cero."
      ],
      "metadata": {
        "id": "cWCfLm-fvNTx"
      }
    },
    {
      "cell_type": "markdown",
      "source": [
        "# Problema 2"
      ],
      "metadata": {
        "id": "6civkm_Pwf1B"
      }
    },
    {
      "cell_type": "markdown",
      "source": [
        "Escribe un código que pida al usuario ingresar un número entero y que determine si el número ingresado es par o impar.\n"
      ],
      "metadata": {
        "id": "rjeAxtJ4x9h6"
      }
    },
    {
      "cell_type": "markdown",
      "source": [
        "# Problema 3"
      ],
      "metadata": {
        "id": "rLA34mTgxuSf"
      }
    },
    {
      "cell_type": "markdown",
      "source": [
        "Escribe un código que, mediante un ciclo *while*, sume los primeros $100$ números naturales."
      ],
      "metadata": {
        "id": "6E3zFuZSwigv"
      }
    },
    {
      "cell_type": "markdown",
      "source": [
        "# Problema 4"
      ],
      "metadata": {
        "id": "pZpuARSKz4zw"
      }
    },
    {
      "cell_type": "markdown",
      "source": [
        "Escribe un código que almacene en una variable el *string* \"Contraseña\". Luego, el programa debe solicitar al usuario \"Introducir contraseña\", hasta que la palabra ingresada sea correcta. <sup><a href=\"#footnote1\" id=\"ref1\">1</a></sup>\n",
        "\n",
        "\n",
        "<p id=\"footnote1\"><sup>1</sup> String: Tipo de dato que almacena texto."
      ],
      "metadata": {
        "id": "SxGOLjlnz6y_"
      }
    },
    {
      "cell_type": "markdown",
      "source": [
        "# Problema 5"
      ],
      "metadata": {
        "id": "bXAO6t1V1psK"
      }
    },
    {
      "cell_type": "markdown",
      "source": [
        "Escribe un código que, utilizando un ciclo *for*, pida al usuario ingresar un número entero y muestre la tabla de multiplicar desde el 1 al 12 de dicho número."
      ],
      "metadata": {
        "id": "nXwlwVHI11wC"
      }
    },
    {
      "cell_type": "markdown",
      "source": [
        "# Problema 6"
      ],
      "metadata": {
        "id": "UroIuMyFCKax"
      }
    },
    {
      "cell_type": "markdown",
      "source": [
        "1. Escribe una función que reciba dos números y retorne el producto de los números recibidos.\n",
        "1. Escribe una nueva función que tome el producto calculado en el ítem anterior y redondee el valor al entero.\n",
        "1. Pide al usuario que ingrese dos números, y utiliza ambas funciones para imprimir el valor de la multiplicación redondeado al entero."
      ],
      "metadata": {
        "id": "VoiJyh0zCMzX"
      }
    },
    {
      "cell_type": "markdown",
      "source": [
        "# Problema 7"
      ],
      "metadata": {
        "id": "GHMOEBgQDvUw"
      }
    },
    {
      "cell_type": "markdown",
      "source": [
        "La fórmula que permite convertir los grados Celsius a Fahrenheit es la siguiente:\n",
        "\n",
        "$$ F = \\frac{9}{5} C + 32$$\n",
        "\n",
        "1. Crea una función que permita realizar esta conversión.\n",
        "1. Luego, pide al usuario que ingrese la temperatura en grados Celsius y utiliza la función para calcular su equivalente en grados Fahrenheit.\n",
        "1. Imprime el resultado redondeado a la centésima."
      ],
      "metadata": {
        "id": "I77oq5plD50H"
      }
    },
    {
      "cell_type": "markdown",
      "source": [
        "# Problema 8"
      ],
      "metadata": {
        "id": "yC4Sju1KGQFn"
      }
    },
    {
      "cell_type": "markdown",
      "source": [
        "1. Escribe un código que importe el módulo *random* y utiliza la función *randint()* para generar diez números aleatorios entre $1$ y $100$, y almacénalos en una lista.\n",
        "1. Imprime en pantalla la lista con los diez números generados.\n",
        "1. Utiliza la indexación en *Python* para acceder al segundo y sexto elemento de la lista. Ten en cuenta que en *Python* los índices comienzan en $0$. ¿Cómo imprimirías estos elementos?"
      ],
      "metadata": {
        "id": "Qw6j4zbSG0NH"
      }
    },
    {
      "cell_type": "markdown",
      "source": [
        "# Problema 9"
      ],
      "metadata": {
        "id": "qlwdqEfzHrL_"
      }
    },
    {
      "cell_type": "markdown",
      "source": [
        "El Índice de Masa Corporal (IMC) es una medida que se utiliza para evaluar si una persona se encuentra en un peso saludable con respecto a su estatura. La fórmula para calcular esta medida es:\n",
        "\n",
        "<br>\n",
        "\n",
        "$$ \\textrm{IMC} = \\frac{\\textrm{peso} \\ \\ (\\textrm{kg})}{(\\textrm{altura} \\ \\ (\\textrm{m}))^{2}}$$\n",
        "\n",
        "<br>\n",
        "\n",
        "El valor obtenido con el IMC, de acuerdo con la Organización Mundial de la Salud (OMS) indica si la persona tiene un peso bajo, normal, sobrepeso u obesidad. La clasificación es la siguiente:\n",
        "\n",
        "<br>\n",
        "\n",
        "* Bajo peso: IMC menor a $18,5 \\ \\  \\textrm{kg/m}^{2}$\n",
        "* Peso normal: IMC entre $18,5 \\ \\ \\textrm{kg/m}^{2}$ y $24,9 \\ \\ \\textrm{kg/m}^{2}$\n",
        "* Sobrepeso: IMC entre $25 \\ \\ \\textrm{kg/m}^{2}$ y $29,9 \\ \\ \\textrm{kg/m}^{2}$\n",
        "* Obesidad: IMC de $30 \\ \\ \\textrm{kg/m}^{2}$ o mayor\n",
        "\n",
        "<br>\n",
        "\n",
        "Aunque el IMC es una forma eficaz de evaluar el peso, no tiene en cuenta factores como la distribución de grasa, la masa muscular y otros rasgos de la salud física.\n",
        "\n",
        "<br>\n",
        "\n",
        "1. Considerando la información entregada, implementa un código que permita calcular mediante una función, el valor del IMC de una persona. Luego, solicita al usuario valores de masa y altura e indica, mediante el uso de condicionales, la categoría de la persona según el IMC calculado.\n",
        "1. Considera la siguiente tabla de valores, que muestra el peso y el IMC de once estudiantes. Guarda los valores del IMC en una lista e imprime en pantalla los estudiantes que, según el criterio de la OMS, están en **bajo peso**. Además, para cada IMC que esté en bajo peso, índica también el índice en la lista donde se encuentra.\n",
        "\n",
        "<p><center>\n",
        "\n",
        "| N°      | Peso $(\\textrm{kg})$ | IMC $(\\textrm{kg/m}^{2})$|\n",
        "|---------|----------------------|--------------------------|\n",
        "|$$ 1 $$  | $$29,5 $$            | $$16,43$$                |\n",
        "|$$ 2 $$  | $$37,3 $$            | $$19,31$$                |\n",
        "|$$ 3 $$  | $$38   $$            | $$10,25$$                |\n",
        "|$$ 4 $$  | $$31   $$            | $$18,63$$                |\n",
        "|$$ 5 $$  | $$36   $$            | $$17,85$$                |\n",
        "|$$ 6 $$  | $$40,4 $$            | $$19,76$$                |\n",
        "|$$ 7 $$  | $$47   $$            | $$23,64$$                |\n",
        "|$$ 8 $$  | $$43   $$            | $$21,94$$                |\n",
        "|$$ 9 $$  | $$36   $$            | $$21,3 $$                |\n",
        "|$$ 10$$  | $$40,1 $$            | $$22,67$$                |\n",
        "|$$ 11$$  | $$27   $$            | $$16,48$$                |\n",
        "\n",
        "</center></p>\n",
        "\n"
      ],
      "metadata": {
        "id": "iqH0iITmJH-P"
      }
    }
  ]
}